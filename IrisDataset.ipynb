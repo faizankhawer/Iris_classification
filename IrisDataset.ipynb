{
 "cells": [
  {
   "cell_type": "code",
   "execution_count": 2,
   "metadata": {},
   "outputs": [
    {
     "name": "stdout",
     "output_type": "stream",
     "text": [
      "(150, 5)\n"
     ]
    }
   ],
   "source": [
    "from numpy import array\n",
    "import pandas as pd\n",
    "import matplotlib.pyplot as plt\n",
    "from sklearn.model_selection import train_test_split\n",
    "from sklearn import svm, neighbors\n",
    "from sklearn.linear_model import LogisticRegression\n",
    "from sklearn.tree import DecisionTreeClassifier\n",
    "from sklearn.discriminant_analysis import LinearDiscriminantAnalysis\n",
    "from sklearn.naive_bayes import GaussianNB\n",
    "\n",
    "\n",
    "df = pd.read_csv(\"iris.txt\")\n",
    "\n",
    "print(df.shape)\n"
   ]
  },
  {
   "cell_type": "code",
   "execution_count": 3,
   "metadata": {},
   "outputs": [
    {
     "name": "stderr",
     "output_type": "stream",
     "text": [
      "C:\\Anaconda3\\lib\\site-packages\\sklearn\\linear_model\\logistic.py:433: FutureWarning: Default solver will be changed to 'lbfgs' in 0.22. Specify a solver to silence this warning.\n",
      "  FutureWarning)\n"
     ]
    },
    {
     "name": "stdout",
     "output_type": "stream",
     "text": [
      "LR = 0.9666666666666667\n",
      "KNN = 0.9666666666666667\n",
      "SVM = 0.9666666666666667\n",
      "LDA = 0.9666666666666667\n",
      "NB = 0.9666666666666667\n",
      "DT = 0.9666666666666667\n"
     ]
    }
   ],
   "source": [
    "\n",
    "# Split-out validation dataset\n",
    "array = df.values\n",
    "X = array[:,0:4]\n",
    "y = array[:,4]\n",
    "\n",
    "#appending(models)\n",
    "models = []\n",
    "models.append(LogisticRegression(multi_class ='auto'))\n",
    "models.append(neighbors.KNeighborsClassifier())\n",
    "models.append(svm.SVC(gamma='auto'))\n",
    "models.append(LinearDiscriminantAnalysis())\n",
    "models.append(GaussianNB())\n",
    "models.append(DecisionTreeClassifier())\n",
    "\n",
    "\n",
    "names = ['LR =','KNN =','SVM =','LDA =','NB =', 'DT =']\n",
    "for i in range (len(models)):\n",
    "    X_train, X_test, y_train, y_test = train_test_split(X,y, test_size=0.2)\n",
    "    clf = models[i]\n",
    "    clf.fit(X_train, y_train)\n",
    "    accuracy = clf.score(X_test, y_test)\n",
    "    print(names[i], accuracy)\n"
   ]
  },
  {
   "cell_type": "code",
   "execution_count": 5,
   "metadata": {},
   "outputs": [
    {
     "name": "stdout",
     "output_type": "stream",
     "text": [
      "['Iris-virginica']\n"
     ]
    }
   ],
   "source": [
    "some_new_data = [[3,4,5,4]]\n",
    "pred = clf.predict(some_new_data)\n",
    "print(pred)"
   ]
  },
  {
   "cell_type": "code",
   "execution_count": null,
   "metadata": {},
   "outputs": [],
   "source": []
  }
 ],
 "metadata": {
  "kernelspec": {
   "display_name": "Python 3",
   "language": "python",
   "name": "python3"
  },
  "language_info": {
   "codemirror_mode": {
    "name": "ipython",
    "version": 3
   },
   "file_extension": ".py",
   "mimetype": "text/x-python",
   "name": "python",
   "nbconvert_exporter": "python",
   "pygments_lexer": "ipython3",
   "version": "3.7.1"
  }
 },
 "nbformat": 4,
 "nbformat_minor": 2
}
